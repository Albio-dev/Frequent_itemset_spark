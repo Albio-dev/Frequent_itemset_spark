{
 "cells": [
  {
   "cell_type": "code",
   "execution_count": 1,
   "id": "445f4099-00a2-47e8-9715-163d610dabc0",
   "metadata": {},
   "outputs": [],
   "source": [
    "from random import choice as random_choice\n",
    "from pandas import DataFrame as Table\n",
    "from functools import reduce\n",
    "from collections import Counter as CounterDictionary"
   ]
  },
  {
   "cell_type": "code",
   "execution_count": 2,
   "id": "5e4df873-dac0-40b6-a3a8-4f0df9734406",
   "metadata": {},
   "outputs": [],
   "source": [
    "w = 'ABCDEF'\n",
    "ITEMS = set([ w[i] for i in range(len(w)) ])"
   ]
  },
  {
   "cell_type": "code",
   "execution_count": 3,
   "id": "eaa799d5-5e5c-423e-879d-5fcfd2ce419b",
   "metadata": {},
   "outputs": [
    {
     "data": {
      "text/plain": [
       "{'A', 'B', 'C', 'D', 'E', 'F'}"
      ]
     },
     "execution_count": 3,
     "metadata": {},
     "output_type": "execute_result"
    }
   ],
   "source": [
    "ITEMS"
   ]
  },
  {
   "cell_type": "code",
   "execution_count": 4,
   "id": "55205788-a9fc-43f5-8280-eb6e8024f786",
   "metadata": {},
   "outputs": [],
   "source": [
    "N = 20\n",
    "MIN_SAMPLES = 3\n",
    "MAX_SAMPLES = 10"
   ]
  },
  {
   "cell_type": "code",
   "execution_count": 5,
   "id": "9189c6a5-885a-42fc-8610-a9b12cf26102",
   "metadata": {},
   "outputs": [],
   "source": [
    "TD_AS_LIST = [ set([ random_choice(tuple(ITEMS)) for _ in range(random_choice(range(MIN_SAMPLES, MAX_SAMPLES)))]) for _ in range(N)  ]\n",
    "TD_AS_DICTIONARY = { frozenset(s): len(list(filter(lambda x: x == s,  TD_AS_LIST)))  for s in TD_AS_LIST  }"
   ]
  },
  {
   "cell_type": "code",
   "execution_count": 6,
   "id": "ae49f539-8f8e-45ad-a8c5-2ad39f7084c4",
   "metadata": {},
   "outputs": [
    {
     "data": {
      "text/plain": [
       "[{'A', 'B', 'F'},\n",
       " {'A', 'B', 'C'},\n",
       " {'A', 'B'},\n",
       " {'C', 'D', 'E', 'F'},\n",
       " {'C', 'E', 'F'},\n",
       " {'A', 'B', 'C', 'D', 'F'},\n",
       " {'A', 'B', 'C', 'E', 'F'},\n",
       " {'B', 'C', 'D', 'E', 'F'},\n",
       " {'A', 'C', 'F'},\n",
       " {'A', 'C', 'F'},\n",
       " {'A', 'B', 'D'},\n",
       " {'A', 'B', 'D', 'E', 'F'},\n",
       " {'A', 'B', 'D', 'E', 'F'},\n",
       " {'B', 'C', 'D'},\n",
       " {'B', 'D'},\n",
       " {'A', 'B', 'C', 'D'},\n",
       " {'B', 'D', 'E', 'F'},\n",
       " {'A', 'B', 'C', 'D', 'E', 'F'},\n",
       " {'A', 'B', 'D', 'E', 'F'},\n",
       " {'A', 'B', 'C', 'D'}]"
      ]
     },
     "execution_count": 6,
     "metadata": {},
     "output_type": "execute_result"
    }
   ],
   "source": [
    "TD_AS_LIST"
   ]
  },
  {
   "cell_type": "code",
   "execution_count": 7,
   "id": "9f68275b-10af-4895-a583-568903de8045",
   "metadata": {},
   "outputs": [
    {
     "data": {
      "text/plain": [
       "{frozenset({'A', 'B', 'F'}): 1,\n",
       " frozenset({'A', 'B', 'C'}): 1,\n",
       " frozenset({'A', 'B'}): 1,\n",
       " frozenset({'C', 'D', 'E', 'F'}): 1,\n",
       " frozenset({'C', 'E', 'F'}): 1,\n",
       " frozenset({'A', 'B', 'C', 'D', 'F'}): 1,\n",
       " frozenset({'A', 'B', 'C', 'E', 'F'}): 1,\n",
       " frozenset({'B', 'C', 'D', 'E', 'F'}): 1,\n",
       " frozenset({'A', 'C', 'F'}): 2,\n",
       " frozenset({'A', 'B', 'D'}): 1,\n",
       " frozenset({'A', 'B', 'D', 'E', 'F'}): 3,\n",
       " frozenset({'B', 'C', 'D'}): 1,\n",
       " frozenset({'B', 'D'}): 1,\n",
       " frozenset({'A', 'B', 'C', 'D'}): 2,\n",
       " frozenset({'B', 'D', 'E', 'F'}): 1,\n",
       " frozenset({'A', 'B', 'C', 'D', 'E', 'F'}): 1}"
      ]
     },
     "execution_count": 7,
     "metadata": {},
     "output_type": "execute_result"
    }
   ],
   "source": [
    "TD_AS_DICTIONARY"
   ]
  },
  {
   "cell_type": "code",
   "execution_count": 8,
   "id": "44c4db4d-8de5-4797-a4a9-c7346bdd6a4e",
   "metadata": {},
   "outputs": [],
   "source": [
    "def transaction_dataset(s):\n",
    "    return TD_AS_DICTIONARY[frozenset(s)] if frozenset(s) in TD_AS_DICTIONARY else 0"
   ]
  },
  {
   "cell_type": "code",
   "execution_count": 9,
   "id": "a1935cf8-29a8-4981-bbfd-f6d5bd8aef92",
   "metadata": {},
   "outputs": [],
   "source": [
    "ITEM_LIST = list(ITEMS)\n",
    "ITEM_LIST.sort()"
   ]
  },
  {
   "cell_type": "code",
   "execution_count": 10,
   "id": "61e24f70-fc61-402b-bdeb-b9bf1658ad7a",
   "metadata": {},
   "outputs": [],
   "source": [
    "TD_AS_TABLE = Table([{ item: item in transaction  for item in list(ITEM_LIST)    }  for transaction in TD_AS_LIST])"
   ]
  },
  {
   "cell_type": "code",
   "execution_count": 11,
   "id": "9ba35187",
   "metadata": {},
   "outputs": [
    {
     "data": {
      "text/plain": [
       "[{'A': True, 'B': True, 'C': False, 'D': False, 'E': False, 'F': True},\n",
       " {'A': True, 'B': True, 'C': True, 'D': False, 'E': False, 'F': False},\n",
       " {'A': True, 'B': True, 'C': False, 'D': False, 'E': False, 'F': False},\n",
       " {'A': False, 'B': False, 'C': True, 'D': True, 'E': True, 'F': True},\n",
       " {'A': False, 'B': False, 'C': True, 'D': False, 'E': True, 'F': True},\n",
       " {'A': True, 'B': True, 'C': True, 'D': True, 'E': False, 'F': True},\n",
       " {'A': True, 'B': True, 'C': True, 'D': False, 'E': True, 'F': True},\n",
       " {'A': False, 'B': True, 'C': True, 'D': True, 'E': True, 'F': True},\n",
       " {'A': True, 'B': False, 'C': True, 'D': False, 'E': False, 'F': True},\n",
       " {'A': True, 'B': False, 'C': True, 'D': False, 'E': False, 'F': True},\n",
       " {'A': True, 'B': True, 'C': False, 'D': True, 'E': False, 'F': False},\n",
       " {'A': True, 'B': True, 'C': False, 'D': True, 'E': True, 'F': True},\n",
       " {'A': True, 'B': True, 'C': False, 'D': True, 'E': True, 'F': True},\n",
       " {'A': False, 'B': True, 'C': True, 'D': True, 'E': False, 'F': False},\n",
       " {'A': False, 'B': True, 'C': False, 'D': True, 'E': False, 'F': False},\n",
       " {'A': True, 'B': True, 'C': True, 'D': True, 'E': False, 'F': False},\n",
       " {'A': False, 'B': True, 'C': False, 'D': True, 'E': True, 'F': True},\n",
       " {'A': True, 'B': True, 'C': True, 'D': True, 'E': True, 'F': True},\n",
       " {'A': True, 'B': True, 'C': False, 'D': True, 'E': True, 'F': True},\n",
       " {'A': True, 'B': True, 'C': True, 'D': True, 'E': False, 'F': False}]"
      ]
     },
     "execution_count": 11,
     "metadata": {},
     "output_type": "execute_result"
    }
   ],
   "source": [
    "[{ item: item in transaction  for item in list(ITEM_LIST)    }  for transaction in TD_AS_LIST]"
   ]
  },
  {
   "cell_type": "code",
   "execution_count": 14,
   "id": "2b153b77",
   "metadata": {},
   "outputs": [
    {
     "data": {
      "text/plain": [
       "0      True\n",
       "1      True\n",
       "2      True\n",
       "3     False\n",
       "4     False\n",
       "5      True\n",
       "6      True\n",
       "7     False\n",
       "8      True\n",
       "9      True\n",
       "10     True\n",
       "11     True\n",
       "12     True\n",
       "13    False\n",
       "14    False\n",
       "15     True\n",
       "16    False\n",
       "17     True\n",
       "18     True\n",
       "19     True\n",
       "Name: A, dtype: bool"
      ]
     },
     "execution_count": 14,
     "metadata": {},
     "output_type": "execute_result"
    }
   ],
   "source": [
    "l = ['A']\n",
    "TD_AS_TABLE[l[0]]"
   ]
  },
  {
   "cell_type": "code",
   "execution_count": 12,
   "id": "72272285-d4f1-4ff8-9b26-222a3ef28dc2",
   "metadata": {},
   "outputs": [
    {
     "data": {
      "text/html": [
       "<div>\n",
       "<style scoped>\n",
       "    .dataframe tbody tr th:only-of-type {\n",
       "        vertical-align: middle;\n",
       "    }\n",
       "\n",
       "    .dataframe tbody tr th {\n",
       "        vertical-align: top;\n",
       "    }\n",
       "\n",
       "    .dataframe thead th {\n",
       "        text-align: right;\n",
       "    }\n",
       "</style>\n",
       "<table border=\"1\" class=\"dataframe\">\n",
       "  <thead>\n",
       "    <tr style=\"text-align: right;\">\n",
       "      <th></th>\n",
       "      <th>A</th>\n",
       "      <th>B</th>\n",
       "      <th>C</th>\n",
       "      <th>D</th>\n",
       "      <th>E</th>\n",
       "      <th>F</th>\n",
       "    </tr>\n",
       "  </thead>\n",
       "  <tbody>\n",
       "    <tr>\n",
       "      <th>0</th>\n",
       "      <td>True</td>\n",
       "      <td>True</td>\n",
       "      <td>False</td>\n",
       "      <td>False</td>\n",
       "      <td>False</td>\n",
       "      <td>True</td>\n",
       "    </tr>\n",
       "    <tr>\n",
       "      <th>1</th>\n",
       "      <td>True</td>\n",
       "      <td>True</td>\n",
       "      <td>True</td>\n",
       "      <td>False</td>\n",
       "      <td>False</td>\n",
       "      <td>False</td>\n",
       "    </tr>\n",
       "    <tr>\n",
       "      <th>2</th>\n",
       "      <td>True</td>\n",
       "      <td>True</td>\n",
       "      <td>False</td>\n",
       "      <td>False</td>\n",
       "      <td>False</td>\n",
       "      <td>False</td>\n",
       "    </tr>\n",
       "    <tr>\n",
       "      <th>3</th>\n",
       "      <td>False</td>\n",
       "      <td>False</td>\n",
       "      <td>True</td>\n",
       "      <td>True</td>\n",
       "      <td>True</td>\n",
       "      <td>True</td>\n",
       "    </tr>\n",
       "    <tr>\n",
       "      <th>4</th>\n",
       "      <td>False</td>\n",
       "      <td>False</td>\n",
       "      <td>True</td>\n",
       "      <td>False</td>\n",
       "      <td>True</td>\n",
       "      <td>True</td>\n",
       "    </tr>\n",
       "    <tr>\n",
       "      <th>5</th>\n",
       "      <td>True</td>\n",
       "      <td>True</td>\n",
       "      <td>True</td>\n",
       "      <td>True</td>\n",
       "      <td>False</td>\n",
       "      <td>True</td>\n",
       "    </tr>\n",
       "    <tr>\n",
       "      <th>6</th>\n",
       "      <td>True</td>\n",
       "      <td>True</td>\n",
       "      <td>True</td>\n",
       "      <td>False</td>\n",
       "      <td>True</td>\n",
       "      <td>True</td>\n",
       "    </tr>\n",
       "    <tr>\n",
       "      <th>7</th>\n",
       "      <td>False</td>\n",
       "      <td>True</td>\n",
       "      <td>True</td>\n",
       "      <td>True</td>\n",
       "      <td>True</td>\n",
       "      <td>True</td>\n",
       "    </tr>\n",
       "    <tr>\n",
       "      <th>8</th>\n",
       "      <td>True</td>\n",
       "      <td>False</td>\n",
       "      <td>True</td>\n",
       "      <td>False</td>\n",
       "      <td>False</td>\n",
       "      <td>True</td>\n",
       "    </tr>\n",
       "    <tr>\n",
       "      <th>9</th>\n",
       "      <td>True</td>\n",
       "      <td>False</td>\n",
       "      <td>True</td>\n",
       "      <td>False</td>\n",
       "      <td>False</td>\n",
       "      <td>True</td>\n",
       "    </tr>\n",
       "    <tr>\n",
       "      <th>10</th>\n",
       "      <td>True</td>\n",
       "      <td>True</td>\n",
       "      <td>False</td>\n",
       "      <td>True</td>\n",
       "      <td>False</td>\n",
       "      <td>False</td>\n",
       "    </tr>\n",
       "    <tr>\n",
       "      <th>11</th>\n",
       "      <td>True</td>\n",
       "      <td>True</td>\n",
       "      <td>False</td>\n",
       "      <td>True</td>\n",
       "      <td>True</td>\n",
       "      <td>True</td>\n",
       "    </tr>\n",
       "    <tr>\n",
       "      <th>12</th>\n",
       "      <td>True</td>\n",
       "      <td>True</td>\n",
       "      <td>False</td>\n",
       "      <td>True</td>\n",
       "      <td>True</td>\n",
       "      <td>True</td>\n",
       "    </tr>\n",
       "    <tr>\n",
       "      <th>13</th>\n",
       "      <td>False</td>\n",
       "      <td>True</td>\n",
       "      <td>True</td>\n",
       "      <td>True</td>\n",
       "      <td>False</td>\n",
       "      <td>False</td>\n",
       "    </tr>\n",
       "    <tr>\n",
       "      <th>14</th>\n",
       "      <td>False</td>\n",
       "      <td>True</td>\n",
       "      <td>False</td>\n",
       "      <td>True</td>\n",
       "      <td>False</td>\n",
       "      <td>False</td>\n",
       "    </tr>\n",
       "    <tr>\n",
       "      <th>15</th>\n",
       "      <td>True</td>\n",
       "      <td>True</td>\n",
       "      <td>True</td>\n",
       "      <td>True</td>\n",
       "      <td>False</td>\n",
       "      <td>False</td>\n",
       "    </tr>\n",
       "    <tr>\n",
       "      <th>16</th>\n",
       "      <td>False</td>\n",
       "      <td>True</td>\n",
       "      <td>False</td>\n",
       "      <td>True</td>\n",
       "      <td>True</td>\n",
       "      <td>True</td>\n",
       "    </tr>\n",
       "    <tr>\n",
       "      <th>17</th>\n",
       "      <td>True</td>\n",
       "      <td>True</td>\n",
       "      <td>True</td>\n",
       "      <td>True</td>\n",
       "      <td>True</td>\n",
       "      <td>True</td>\n",
       "    </tr>\n",
       "    <tr>\n",
       "      <th>18</th>\n",
       "      <td>True</td>\n",
       "      <td>True</td>\n",
       "      <td>False</td>\n",
       "      <td>True</td>\n",
       "      <td>True</td>\n",
       "      <td>True</td>\n",
       "    </tr>\n",
       "    <tr>\n",
       "      <th>19</th>\n",
       "      <td>True</td>\n",
       "      <td>True</td>\n",
       "      <td>True</td>\n",
       "      <td>True</td>\n",
       "      <td>False</td>\n",
       "      <td>False</td>\n",
       "    </tr>\n",
       "  </tbody>\n",
       "</table>\n",
       "</div>"
      ],
      "text/plain": [
       "        A      B      C      D      E      F\n",
       "0    True   True  False  False  False   True\n",
       "1    True   True   True  False  False  False\n",
       "2    True   True  False  False  False  False\n",
       "3   False  False   True   True   True   True\n",
       "4   False  False   True  False   True   True\n",
       "5    True   True   True   True  False   True\n",
       "6    True   True   True  False   True   True\n",
       "7   False   True   True   True   True   True\n",
       "8    True  False   True  False  False   True\n",
       "9    True  False   True  False  False   True\n",
       "10   True   True  False   True  False  False\n",
       "11   True   True  False   True   True   True\n",
       "12   True   True  False   True   True   True\n",
       "13  False   True   True   True  False  False\n",
       "14  False   True  False   True  False  False\n",
       "15   True   True   True   True  False  False\n",
       "16  False   True  False   True   True   True\n",
       "17   True   True   True   True   True   True\n",
       "18   True   True  False   True   True   True\n",
       "19   True   True   True   True  False  False"
      ]
     },
     "execution_count": 12,
     "metadata": {},
     "output_type": "execute_result"
    }
   ],
   "source": [
    "TD_AS_TABLE"
   ]
  },
  {
   "cell_type": "code",
   "execution_count": 207,
   "id": "805f137e-e84b-4a80-91d2-1a89659fcfae",
   "metadata": {},
   "outputs": [],
   "source": [
    "def support(td, tr):\n",
    "    return reduce(lambda x, y: x & y, [td[it] for it in tr]).mean()"
   ]
  },
  {
   "cell_type": "code",
   "execution_count": 214,
   "id": "bc8a0a9a-99de-4ac2-b4f8-6b072de9d067",
   "metadata": {},
   "outputs": [],
   "source": [
    "EPSILON= 0.25"
   ]
  },
  {
   "cell_type": "code",
   "execution_count": 224,
   "id": "ce00a6cf-e7a7-4a9e-bd5a-1acf16343428",
   "metadata": {},
   "outputs": [],
   "source": [
    "def next_candidates(itemsets):\n",
    "    if len(itemsets) == 0: return set()\n",
    "    r = set()\n",
    "    k = len(list(itemsets)[0])\n",
    "    for its in itemsets:\n",
    "        nns = set(filter(lambda x: len(its.difference(x)) == 1, itemsets)) # nns: nearest neighbours\n",
    "        nn_diff = [list(nn.difference(its))[0] for nn in nns]\n",
    "        nn_diff_count = CounterDictionary(nn_diff).items()\n",
    "        extensions = frozenset([frozenset([pair[0]]) for pair in list(filter(lambda pair: pair[1] == k, nn_diff_count))])\n",
    "        for singleton in extensions: r.add( frozenset(its.union(singleton)))\n",
    "    return r    "
   ]
  },
  {
   "cell_type": "code",
   "execution_count": 225,
   "id": "5375cdf6-fb50-4d92-8947-8187e899bfb4",
   "metadata": {},
   "outputs": [],
   "source": [
    "def apriori(td, epsilon):\n",
    "    fi = set()\n",
    "    items = set(td.columns)\n",
    "    candidates = set([frozenset([it]) for it in items])\n",
    "    condition = True\n",
    "    while(condition):\n",
    "        fi_k = set( filter(lambda x: support(td, x) >= epsilon , candidates) )\n",
    "        fi = fi.union(fi_k)\n",
    "        candidates = next_candidates(fi_k)\n",
    "        condition = len(candidates) > 0\n",
    "    return fi    "
   ]
  },
  {
   "cell_type": "code",
   "execution_count": 226,
   "id": "98cd54d7-abde-42d7-b692-618e54ddf02d",
   "metadata": {},
   "outputs": [
    {
     "data": {
      "text/plain": [
       "{frozenset({'F'}),\n",
       " frozenset({'A', 'B'}),\n",
       " frozenset({'A', 'B', 'F'}),\n",
       " frozenset({'E', 'F'}),\n",
       " frozenset({'A', 'D'}),\n",
       " frozenset({'E'}),\n",
       " frozenset({'C', 'E'}),\n",
       " frozenset({'B'}),\n",
       " frozenset({'B', 'D'}),\n",
       " frozenset({'B', 'E'}),\n",
       " frozenset({'A', 'B', 'D'}),\n",
       " frozenset({'B', 'E', 'F'}),\n",
       " frozenset({'A', 'B', 'E'}),\n",
       " frozenset({'D', 'F'}),\n",
       " frozenset({'B', 'D', 'F'}),\n",
       " frozenset({'A'}),\n",
       " frozenset({'A', 'C'}),\n",
       " frozenset({'D'}),\n",
       " frozenset({'D', 'E'}),\n",
       " frozenset({'A', 'D', 'E'}),\n",
       " frozenset({'A', 'F'}),\n",
       " frozenset({'A', 'D', 'F'}),\n",
       " frozenset({'B', 'F'}),\n",
       " frozenset({'A', 'E', 'F'}),\n",
       " frozenset({'C'}),\n",
       " frozenset({'A', 'B', 'D', 'F'}),\n",
       " frozenset({'C', 'F'}),\n",
       " frozenset({'A', 'E'}),\n",
       " frozenset({'A', 'B', 'E', 'F'})}"
      ]
     },
     "execution_count": 226,
     "metadata": {},
     "output_type": "execute_result"
    }
   ],
   "source": [
    "apriori(TD_AS_TABLE, EPSILON)"
   ]
  },
  {
   "cell_type": "code",
   "execution_count": null,
   "id": "97a12793-8e5f-45aa-9172-b2a28552c50e",
   "metadata": {},
   "outputs": [],
   "source": []
  }
 ],
 "metadata": {
  "kernelspec": {
   "display_name": "Python 3 (ipykernel)",
   "language": "python",
   "name": "python3"
  },
  "language_info": {
   "codemirror_mode": {
    "name": "ipython",
    "version": 3
   },
   "file_extension": ".py",
   "mimetype": "text/x-python",
   "name": "python",
   "nbconvert_exporter": "python",
   "pygments_lexer": "ipython3",
   "version": "3.10.6"
  }
 },
 "nbformat": 4,
 "nbformat_minor": 5
}
